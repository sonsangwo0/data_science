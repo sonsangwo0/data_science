{
 "cells": [
  {
   "cell_type": "code",
   "execution_count": 1,
   "id": "af3bfd1f-554e-4f15-990b-f5225bbc8b23",
   "metadata": {},
   "outputs": [
    {
     "data": {
      "text/plain": [
       "'1.2.4'"
      ]
     },
     "execution_count": 1,
     "metadata": {},
     "output_type": "execute_result"
    }
   ],
   "source": [
    "import pandas as pd\n",
    "pd.__version__"
   ]
  },
  {
   "cell_type": "code",
   "execution_count": 2,
   "id": "542b4653-fa65-4053-af11-7212ee7564e0",
   "metadata": {},
   "outputs": [
    {
     "name": "stdout",
     "output_type": "stream",
     "text": [
      "0    0.25\n",
      "1    0.50\n",
      "2    0.75\n",
      "3    1.00\n",
      "dtype: float64\n",
      "(4,)\n",
      "RangeIndex(start=0, stop=4, step=1)\n"
     ]
    }
   ],
   "source": [
    "ser = pd.Series([0.25, 0.5, 0.75, 1]) \n",
    "print(ser)\n",
    "print(ser.shape)\n",
    "\n",
    "print(ser.index)"
   ]
  },
  {
   "cell_type": "code",
   "execution_count": 3,
   "id": "9f2f32b9-3db1-4820-ae15-a606194924af",
   "metadata": {},
   "outputs": [
    {
     "name": "stdout",
     "output_type": "stream",
     "text": [
      "a    0.25\n",
      "b    0.50\n",
      "c    0.75\n",
      "d    1.00\n",
      "dtype: float64\n",
      "0.5\n"
     ]
    }
   ],
   "source": [
    "ser = pd.Series([0.25, 0.5, 0.75, 1], index=['a', 'b', 'c', 'd'])\n",
    "print(ser)\n",
    "\n",
    "print(ser['b'])"
   ]
  },
  {
   "cell_type": "code",
   "execution_count": 4,
   "id": "ff33628c-e5a8-414d-bf38-d98961e0b46f",
   "metadata": {},
   "outputs": [
    {
     "name": "stdout",
     "output_type": "stream",
     "text": [
      "{'a': 1, 2: 'two', 'third': True}\n"
     ]
    }
   ],
   "source": [
    "dict = {'a': 1 , 2: 'two', 'third': True}\n",
    "print(dict)"
   ]
  },
  {
   "cell_type": "code",
   "execution_count": 5,
   "id": "10805b67-cc57-45d8-971f-9f131147889a",
   "metadata": {},
   "outputs": [
    {
     "name": "stdout",
     "output_type": "stream",
     "text": [
      "California    38332521\n",
      "Texas         26448193\n",
      "New York      19651127\n",
      "Florida       19552860\n",
      "Illinois      12882135\n",
      "dtype: int64 \n",
      "\n",
      "26448193\n"
     ]
    }
   ],
   "source": [
    "population_dict = {'California': 38332521, 'Texas': 26448193, 'New York': 19651127, 'Florida': 19552860, 'Illinois': 12882135}\n",
    "\n",
    "population = pd.Series(population_dict)\n",
    "print(population, '\\n')\n",
    "print(population['Texas'])"
   ]
  },
  {
   "cell_type": "code",
   "execution_count": 6,
   "id": "f4a3b1c6-11f0-42c2-be17-5bd032050b27",
   "metadata": {},
   "outputs": [
    {
     "name": "stdout",
     "output_type": "stream",
     "text": [
      "California    423967\n",
      "Texas         695662\n",
      "New York      141297\n",
      "Florida       170312\n",
      "Illinois      149995\n",
      "dtype: int64\n"
     ]
    }
   ],
   "source": [
    "area_dict = {'California': 423967, 'Texas': 695662, 'New York': 141297, 'Florida': 170312, 'Illinois': 149995}\n",
    "\n",
    "area = pd.Series(area_dict)\n",
    "print(area)"
   ]
  },
  {
   "cell_type": "code",
   "execution_count": 41,
   "id": "33232314-1d14-41ec-9923-49f664d12e41",
   "metadata": {},
   "outputs": [
    {
     "name": "stdout",
     "output_type": "stream",
     "text": [
      "            population    area\n",
      "California    38332521  423967\n",
      "Texas         26448193  695662\n",
      "New York      19651127  141297\n",
      "Florida       19552860  170312\n",
      "Illinois      12882135  149995\n",
      "Index(['California', 'Texas', 'New York', 'Florida', 'Illinois'], dtype='object')\n",
      "Index(['population', 'area'], dtype='object') \n",
      "\n",
      "            population    area     density\n",
      "California    38332521  423967   90.413926\n",
      "Texas         26448193  695662   38.018740\n",
      "New York      19651127  141297  139.076746\n",
      "Florida       19552860  170312  114.806121\n",
      "Illinois      12882135  149995   85.883763\n"
     ]
    }
   ],
   "source": [
    "df = pd.DataFrame({'population': population, 'area': area})\n",
    "print(df)\n",
    "\n",
    "print(df.index)\n",
    "print(df.columns, '\\n')\n",
    "\n",
    "\n",
    "\n",
    "import numpy as np"
   ]
  },
  {
   "cell_type": "code",
   "execution_count": 37,
   "id": "57a11e06-c8d4-4ebc-b5a4-c82ad75f3216",
   "metadata": {},
   "outputs": [
    {
     "name": "stdout",
     "output_type": "stream",
     "text": [
      "[[0.2863834  0.5586773 ]\n",
      " [0.58924578 0.7250377 ]\n",
      " [0.6949967  0.82242175]] \n",
      "\n",
      "                 foo       bar\n",
      "2021-10-13  0.286383  0.558677\n",
      "2021-10-14  0.589246  0.725038\n",
      "2021-10-15  0.694997  0.822422\n"
     ]
    }
   ],
   "source": [
    "arr = np.random.rand(3, 2)\n",
    "print(arr, '\\n')\n",
    "\n",
    "df = pd.DataFrame(arr, columns=['foo', 'bar'], index=['2021-10-13', '2021-10-14', '2021-10-15'])\n",
    "print(df)"
   ]
  },
  {
   "cell_type": "code",
   "execution_count": 31,
   "id": "d6deae85-bea4-4094-a040-874ec87cc1c3",
   "metadata": {},
   "outputs": [
    {
     "name": "stdout",
     "output_type": "stream",
     "text": [
      "a    0.25\n",
      "b    0.50\n",
      "c    0.75\n",
      "d    1.00\n",
      "dtype: float64 \n",
      "\n"
     ]
    }
   ],
   "source": [
    "ser = pd.Series([0.25, 0.5, 0.75, 1.0], index=['a', 'b', 'c', 'd'])\n",
    "print(ser, '\\n')"
   ]
  },
  {
   "cell_type": "code",
   "execution_count": 46,
   "id": "1704f51a-05c2-435d-affa-426b0382ed52",
   "metadata": {},
   "outputs": [
    {
     "name": "stdout",
     "output_type": "stream",
     "text": [
      "            population    area     density\n",
      "California    38332521  423967   90.413926\n",
      "Texas         26448193  695662   38.018740\n",
      "New York      19651127  141297  139.076746\n",
      "Florida       19552860  170312  114.806121\n",
      "Illinois      12882135  149995   85.883763\n"
     ]
    }
   ],
   "source": [
    "df['density'] = df['population'] / df['area']\n",
    "\n",
    "print(df)"
   ]
  },
  {
   "cell_type": "code",
   "execution_count": 47,
   "id": "caed4c24-3c9d-4234-b745-7e39664cdb2d",
   "metadata": {},
   "outputs": [
    {
     "name": "stdout",
     "output_type": "stream",
     "text": [
      "population    1.965113e+07\n",
      "area          1.412970e+05\n",
      "density       1.390767e+02\n",
      "Name: New York, dtype: float64\n"
     ]
    }
   ],
   "source": [
    "print(df.loc['New York'])"
   ]
  },
  {
   "cell_type": "code",
   "execution_count": 48,
   "id": "30b02686-c851-4959-8c18-b17873be6310",
   "metadata": {},
   "outputs": [
    {
     "name": "stdout",
     "output_type": "stream",
     "text": [
      "[[3.83325210e+07 4.23967000e+05 9.04139261e+01]\n",
      " [2.64481930e+07 6.95662000e+05 3.80187404e+01]\n",
      " [1.96511270e+07 1.41297000e+05 1.39076746e+02]\n",
      " [1.95528600e+07 1.70312000e+05 1.14806121e+02]\n",
      " [1.28821350e+07 1.49995000e+05 8.58837628e+01]] \n",
      "\n",
      "              California         Texas      New York       Florida  \\\n",
      "population  3.833252e+07  2.644819e+07  1.965113e+07  1.955286e+07   \n",
      "area        4.239670e+05  6.956620e+05  1.412970e+05  1.703120e+05   \n",
      "density     9.041393e+01  3.801874e+01  1.390767e+02  1.148061e+02   \n",
      "\n",
      "                Illinois  \n",
      "population  1.288214e+07  \n",
      "area        1.499950e+05  \n",
      "density     8.588376e+01   \n",
      "\n",
      "            population    area\n",
      "California    38332521  423967\n",
      "Texas         26448193  695662\n",
      "New York      19651127  141297 \n",
      "\n",
      "          population     density\n",
      "New York    19651127  139.076746\n",
      "Florida     19552860  114.806121 \n",
      "\n"
     ]
    }
   ],
   "source": [
    "print(df.values, '\\n')\n",
    "print(df.T, '\\n')\n",
    "\n",
    "print(df.iloc[:3, :2], '\\n')\n",
    "print(df.loc[df.density > 100, ['population', 'density']], '\\n')"
   ]
  }
 ],
 "metadata": {
  "kernelspec": {
   "display_name": "Python 3",
   "language": "python",
   "name": "python3"
  },
  "language_info": {
   "codemirror_mode": {
    "name": "ipython",
    "version": 3
   },
   "file_extension": ".py",
   "mimetype": "text/x-python",
   "name": "python",
   "nbconvert_exporter": "python",
   "pygments_lexer": "ipython3",
   "version": "3.8.8"
  }
 },
 "nbformat": 4,
 "nbformat_minor": 5
}
