{
 "cells": [
  {
   "cell_type": "code",
   "execution_count": 1,
   "id": "26c8d5be-a86c-49fb-bf9b-783fd9c10b38",
   "metadata": {},
   "outputs": [
    {
     "name": "stdout",
     "output_type": "stream",
     "text": [
      "[[1. 1. 1.]\n",
      " [1. 1. 1.]\n",
      " [1. 1. 1.]]\n",
      "[0 1 2]\n",
      "[[1. 2. 3.]\n",
      " [1. 2. 3.]\n",
      " [1. 2. 3.]]\n"
     ]
    }
   ],
   "source": [
    "import numpy as np\n",
    "\n",
    "x = np.ones((3, 3))\n",
    "print(x)\n",
    "y = np.arange(3)\n",
    "print(y)\n",
    "print(x+y)"
   ]
  },
  {
   "cell_type": "code",
   "execution_count": 2,
   "id": "ba621c63-e775-4335-bdab-58e8a57c6502",
   "metadata": {},
   "outputs": [
    {
     "name": "stdout",
     "output_type": "stream",
     "text": [
      "[0 1 2] \n",
      "\n",
      "[[0]\n",
      " [1]\n",
      " [2]] \n",
      "\n",
      "[0 1 2] \n",
      "\n",
      "[[0 1 2]\n",
      " [1 2 3]\n",
      " [2 3 4]]\n"
     ]
    }
   ],
   "source": [
    "a = np.arange(3)\n",
    "print(a, \"\\n\")\n",
    "a = a[:, np.newaxis]\n",
    "print(a ,\"\\n\")\n",
    "\n",
    "b = np.arange(3)\n",
    "print(b, \"\\n\")\n",
    "\n",
    "print(a+b)"
   ]
  },
  {
   "cell_type": "code",
   "execution_count": 3,
   "id": "aea32399-c01e-4bcf-a8cb-29a1505a79ab",
   "metadata": {},
   "outputs": [
    {
     "name": "stdout",
     "output_type": "stream",
     "text": [
      "[[1. 1. 1.]\n",
      " [1. 1. 1.]] \n",
      "\n",
      "[0 1 2] \n",
      "\n",
      "[[1. 2. 3.]\n",
      " [1. 2. 3.]]\n"
     ]
    }
   ],
   "source": [
    "a = np.ones((2, 3))\n",
    "print(a, \"\\n\")\n",
    "\n",
    "b = np.arange(3)\n",
    "print(b, \"\\n\")\n",
    "\n",
    "print(a+b)"
   ]
  },
  {
   "cell_type": "code",
   "execution_count": 4,
   "id": "ca796d34-c4d1-4c9a-b35a-c302b1fdc16a",
   "metadata": {},
   "outputs": [
    {
     "name": "stdout",
     "output_type": "stream",
     "text": [
      "[1 2 3 4 5]\n",
      "[ True  True False False False]\n",
      "[False False  True  True  True]\n",
      "[ True  True False  True  True]\n",
      "[False False  True False False]\n"
     ]
    }
   ],
   "source": [
    "x = np.array([1, 2, 3, 4, 5])\n",
    "print(x)\n",
    "\n",
    "print(x < 3)\n",
    "print(x >= 3)\n",
    "print(x != 3)\n",
    "print(x == 3)"
   ]
  },
  {
   "cell_type": "code",
   "execution_count": 5,
   "id": "165290e0-9c40-43ef-8539-fc8162bf4ae4",
   "metadata": {},
   "outputs": [
    {
     "name": "stdout",
     "output_type": "stream",
     "text": [
      "[[5 0 3 3]\n",
      " [7 9 3 5]\n",
      " [2 4 7 6]]\n",
      "[[ True  True  True  True]\n",
      " [False False  True  True]\n",
      " [ True  True False False]]\n"
     ]
    }
   ],
   "source": [
    "np.random.seed(0)\n",
    "x = np.random.randint(10, size=(3, 4))\n",
    "print(x)\n",
    "\n",
    "print(x < 6)"
   ]
  },
  {
   "cell_type": "code",
   "execution_count": 6,
   "id": "6e33a8a9-8209-49c4-9cff-db1d4f1f1a01",
   "metadata": {},
   "outputs": [
    {
     "name": "stdout",
     "output_type": "stream",
     "text": [
      "[[5 0 3 3]\n",
      " [7 9 3 5]\n",
      " [2 4 7 6]]\n",
      "8\n",
      "8\n",
      "False\n",
      "False\n"
     ]
    }
   ],
   "source": [
    "print(x)\n",
    "print(np.count_nonzero(x < 6))\n",
    "print(np.sum(x < 6))\n",
    "\n",
    "print(np.any(x > 9))\n",
    "print(np.all(x > 1))"
   ]
  },
  {
   "cell_type": "code",
   "execution_count": 7,
   "id": "31b2bd41-e8a7-46f6-b52d-7fc1a6dc6dcf",
   "metadata": {},
   "outputs": [
    {
     "name": "stdout",
     "output_type": "stream",
     "text": [
      "[[False  True  True  True]\n",
      " [False False  True False]\n",
      " [ True  True False False]]\n",
      "1.2583057392117916\n"
     ]
    }
   ],
   "source": [
    "print(x < 5)\n",
    "\n",
    "print(np.std(x[x < 5]))"
   ]
  },
  {
   "cell_type": "code",
   "execution_count": 8,
   "id": "2c3d6c5e-7ef5-432a-b8c3-68b7c94f1218",
   "metadata": {},
   "outputs": [
    {
     "name": "stdout",
     "output_type": "stream",
     "text": [
      "[37 12 72  9 75  5 79 64 16  1]\n",
      "72 75 79\n",
      "[72 75 79]\n"
     ]
    }
   ],
   "source": [
    "np.random.seed(1)\n",
    "x = np.random.randint(100, size=10)\n",
    "print(x)\n",
    "\n",
    "print(x[2], x[4], x[6])\n",
    "\n",
    "ind = [2, 4, 6]\n",
    "print(x[ind])"
   ]
  },
  {
   "cell_type": "code",
   "execution_count": 9,
   "id": "be0e9324-24bf-46dd-b392-3a07c25d2dc9",
   "metadata": {},
   "outputs": [
    {
     "name": "stdout",
     "output_type": "stream",
     "text": [
      "[[8 8 6 2 8]\n",
      " [7 2 1 5 4]\n",
      " [4 5 7 3 6]]\n"
     ]
    },
    {
     "data": {
      "text/plain": [
       "array([8, 5, 7])"
      ]
     },
     "execution_count": 9,
     "metadata": {},
     "output_type": "execute_result"
    }
   ],
   "source": [
    "np.random.seed(2)\n",
    "x = np.random.randint(10, size=(3, 5))\n",
    "print(x)\n",
    "\n",
    "row = [0, 1, 2]\n",
    "col = [1, 3, 2]\n",
    "\n",
    "x[row, col]\n"
   ]
  },
  {
   "cell_type": "code",
   "execution_count": 10,
   "id": "76eddf61-0bb7-4d40-9436-fb7c524b93fa",
   "metadata": {},
   "outputs": [
    {
     "name": "stdout",
     "output_type": "stream",
     "text": [
      "[[8 8 6 2 8]\n",
      " [7 2 1 5 4]\n",
      " [4 5 7 3 6]]\n",
      "[[6 8 8]\n",
      " [1 2 4]\n",
      " [7 5 6]]\n"
     ]
    }
   ],
   "source": [
    "print(x)\n",
    "row = np.array([0, 1, 2])\n",
    "col = np.array([2, 1, 4])\n",
    "\n",
    "print(x[row[:, np.newaxis], col])"
   ]
  },
  {
   "cell_type": "code",
   "execution_count": 11,
   "id": "20a3ce89-c1d2-4fc0-af90-5c5656a97535",
   "metadata": {},
   "outputs": [
    {
     "name": "stdout",
     "output_type": "stream",
     "text": [
      "[[ 1  2  3  4]\n",
      " [ 5  6  7  8]\n",
      " [ 9 10 11 12]]\n",
      "[11  9 10]\n",
      "[[ 7  5  6]\n",
      " [11  9 10]]\n"
     ]
    }
   ],
   "source": [
    "x = np.arange(1, 13).reshape(3, 4)\n",
    "print(x)\n",
    "\n",
    "print(x[2, [2, 0, 1]])\n",
    "print(x[1:, [2, 0, 1]])"
   ]
  },
  {
   "cell_type": "code",
   "execution_count": 12,
   "id": "c5087d2f-5529-4c25-b562-9d05bb05986f",
   "metadata": {},
   "outputs": [
    {
     "name": "stdout",
     "output_type": "stream",
     "text": [
      "[[-1.26659039e+00 -3.71998007e+00]\n",
      " [ 8.98574387e-01  1.00797760e+00]\n",
      " [ 8.12283322e-02 -2.29506499e+00]\n",
      " [-1.32069461e+00 -4.01236325e+00]\n",
      " [-1.99323780e-01 -7.51126722e-01]\n",
      " [-5.62429879e-01 -3.58770608e+00]\n",
      " [ 4.44845894e-01  6.58255553e-01]\n",
      " [-6.26556217e-01 -2.70315425e+00]\n",
      " [ 4.95244764e-01  2.45439522e-01]\n",
      " [-2.62034143e-01 -1.77174030e-03]\n",
      " [ 5.78772733e-01  2.63632100e+00]\n",
      " [-1.02525747e+00 -1.93129454e+00]\n",
      " [-5.70631049e-01 -2.11768692e+00]\n",
      " [ 4.71639223e-01  1.25768272e-01]\n",
      " [ 4.45380634e-02  6.81577017e-01]\n",
      " [ 7.90842213e-01  1.47981907e+00]\n",
      " [ 9.58310989e-01  1.39872339e+00]\n",
      " [ 6.24997094e-01  1.49516840e+00]\n",
      " [ 9.42553159e-01  2.52925434e+00]\n",
      " [-1.81742527e+00 -3.58446991e+00]\n",
      " [ 5.16913839e-01  2.87177733e-01]\n",
      " [ 4.26099193e-02  1.93476910e+00]\n",
      " [ 1.96827436e-01 -2.14295655e-01]\n",
      " [-9.80115753e-01 -9.29089657e-02]\n",
      " [-3.47205801e-01 -1.70173123e-01]\n",
      " [-1.42521035e-01 -7.25348701e-01]\n",
      " [ 1.18923685e+00  2.49294590e+00]\n",
      " [-3.14978696e-02  5.58913783e-01]\n",
      " [-1.13143694e+00 -1.72371279e+00]\n",
      " [-6.02577143e-01 -4.96680020e-01]\n",
      " [ 2.17520931e-01  1.88123670e+00]\n",
      " [-3.59810173e-01 -1.19131196e+00]\n",
      " [-4.22411874e-01 -1.10159071e+00]\n",
      " [-1.62709795e+00 -2.28312406e+00]\n",
      " [-1.48479237e+00 -5.09616263e+00]\n",
      " [ 1.52723792e+00  3.14104857e+00]\n",
      " [-4.83150303e-01 -2.18069608e-01]\n",
      " [ 4.82254235e-01 -1.02455011e+00]\n",
      " [-3.39565581e-02  8.14214912e-01]\n",
      " [-5.04188871e-01 -3.92424651e-01]\n",
      " [ 2.82231207e-01  4.64067441e-01]\n",
      " [-3.29280222e-01 -3.51116074e-01]\n",
      " [-2.28747690e-01 -4.23431745e-01]\n",
      " [ 4.75123754e-01  1.55572231e+00]\n",
      " [-5.44782958e-01 -9.26778324e-02]\n",
      " [-1.17851198e+00 -2.64476775e+00]\n",
      " [ 5.91149629e-01  7.35804640e-01]\n",
      " [-4.20854529e-01 -9.32320424e-01]\n",
      " [ 3.00995578e-01  7.73856505e-01]\n",
      " [ 3.05680795e-01  1.49352315e+00]\n",
      " [-5.55058820e-02  1.19139454e+00]\n",
      " [-5.99930336e-01 -8.05875190e-01]\n",
      " [ 9.46746793e-01  2.46898717e+00]\n",
      " [-3.19219528e-01 -1.80294221e+00]\n",
      " [ 2.33472782e-01  5.98954888e-01]\n",
      " [ 1.14798871e+00  3.11261598e+00]\n",
      " [-4.52827993e-01 -2.02355683e+00]\n",
      " [ 1.78326865e-01 -9.89886193e-01]\n",
      " [ 6.54079300e-01 -1.69812278e-01]\n",
      " [-1.19253433e+00 -2.43644180e+00]\n",
      " [ 3.19384611e-01 -6.79662317e-02]\n",
      " [-1.92957428e+00 -2.52922881e+00]\n",
      " [ 1.24349192e+00  4.34006937e+00]\n",
      " [-1.63310469e+00 -3.57680227e+00]\n",
      " [ 7.77591240e-01  2.81174955e+00]\n",
      " [ 3.98258983e-01  3.07803261e-01]\n",
      " [ 9.25743957e-01  2.83084111e+00]\n",
      " [-4.93843157e-01 -1.86714765e+00]\n",
      " [-4.30293322e-02 -1.34250819e+00]\n",
      " [-7.58643529e-01 -1.78112342e+00]\n",
      " [ 2.11304453e-01  4.00005138e-01]\n",
      " [-1.08991624e+00 -1.81905086e+00]\n",
      " [-5.41858148e-01 -1.15911457e+00]\n",
      " [-3.08541228e-01 -7.55544459e-02]\n",
      " [-4.75998080e-01 -4.10372701e-01]\n",
      " [ 1.21828261e+00  3.05745001e-01]\n",
      " [-1.79666967e+00 -1.97037456e+00]\n",
      " [-3.69439827e-01 -1.00031388e+00]\n",
      " [ 1.71618571e-01  2.85460558e-01]\n",
      " [ 4.13293782e-01 -2.16684866e-01]\n",
      " [ 8.59278635e-01  9.95308072e-01]\n",
      " [-1.16340799e-01 -6.01953603e-01]\n",
      " [-3.90659602e-01 -1.13223305e+00]\n",
      " [-9.92970779e-01 -2.16611609e+00]\n",
      " [-1.29823673e+00 -5.18682700e+00]\n",
      " [ 2.52688990e-01  1.58580757e+00]\n",
      " [-2.24071996e+00 -5.67869687e+00]\n",
      " [ 4.62618221e-02 -1.33274853e-01]\n",
      " [-1.12015802e+00 -3.01528046e+00]\n",
      " [-5.05919832e-01 -1.56754928e+00]\n",
      " [ 1.05570147e+00  2.88807041e+00]\n",
      " [-9.59778270e-01 -9.17332107e-01]\n",
      " [ 3.38293981e-01  1.48486034e-01]\n",
      " [-6.12049556e-01 -1.21704639e+00]\n",
      " [-2.31321700e-01 -6.37596605e-01]\n",
      " [-1.21341180e+00 -2.52949918e+00]\n",
      " [-2.18485819e+00 -4.07211516e+00]\n",
      " [ 1.39110726e-02 -1.72794227e+00]\n",
      " [-7.17305491e-01 -1.27681847e+00]\n",
      " [-1.14891234e+00 -1.64322377e+00]]\n",
      "(100, 2)\n"
     ]
    }
   ],
   "source": [
    "mean = [0, 0]\n",
    "cov = [[1, 2], [2, 5]]\n",
    "\n",
    "rand = np.random.RandomState(1)\n",
    "x = rand.multivariate_normal(mean, cov, 100)\n",
    "print(x)\n",
    "print(x.shape)"
   ]
  },
  {
   "cell_type": "code",
   "execution_count": 13,
   "id": "f2a473ef-e96b-4b84-b50a-3260d5d432ae",
   "metadata": {},
   "outputs": [
    {
     "data": {
      "image/png": "[encoded data removed]",
      "text/plain": [
       "<Figure size 432x288 with 1 Axes>"
      ]
     },
     "metadata": {
      "needs_background": "light"
     },
     "output_type": "display_data"
    }
   ],
   "source": [
    "import matplotlib.pyplot as plt\n",
    "\n",
    "plt.scatter(x[:, 0], x[:, 1]);"
   ]
  },
  {
   "cell_type": "code",
   "execution_count": 14,
   "id": "aa552199-399c-426e-a3cc-8bb4b02908ef",
   "metadata": {},
   "outputs": [
    {
     "name": "stdout",
     "output_type": "stream",
     "text": [
      "[79 94 93 14 87 30 77  2 25  0 35 74 28 24  3 78 98 29  7 13]\n"
     ]
    }
   ],
   "source": [
    "ind = np.random.choice(x.shape[0], 20, replace=False)\n",
    "print(ind)"
   ]
  },
  {
   "cell_type": "code",
   "execution_count": 15,
   "id": "4fbd13c1-8eb3-42bb-b6fd-96725d2b38e9",
   "metadata": {},
   "outputs": [
    {
     "name": "stdout",
     "output_type": "stream",
     "text": [
      "[[ 0.41329378 -0.21668487]\n",
      " [-0.2313217  -0.63759661]\n",
      " [-0.61204956 -1.21704639]\n",
      " [ 0.04453806  0.68157702]\n",
      " [ 0.04626182 -0.13327485]\n",
      " [ 0.21752093  1.8812367 ]\n",
      " [-0.36943983 -1.00031388]\n",
      " [ 0.08122833 -2.29506499]\n",
      " [-0.14252103 -0.7253487 ]\n",
      " [-1.26659039 -3.71998007]\n",
      " [ 1.52723792  3.14104857]\n",
      " [-0.47599808 -0.4103727 ]\n",
      " [-1.13143694 -1.72371279]\n",
      " [-0.3472058  -0.17017312]\n",
      " [-1.32069461 -4.01236325]\n",
      " [ 0.17161857  0.28546056]\n",
      " [-0.71730549 -1.27681847]\n",
      " [-0.60257714 -0.49668002]\n",
      " [-0.62655622 -2.70315425]\n",
      " [ 0.47163922  0.12576827]]\n",
      "(20, 2)\n"
     ]
    }
   ],
   "source": [
    "selected = x[ind]\n",
    "print(selected)\n",
    "print(selected.shape)"
   ]
  },
  {
   "cell_type": "code",
   "execution_count": 16,
   "id": "e9ef725a-3fef-45d6-87ea-9d58fdbeb21e",
   "metadata": {},
   "outputs": [
    {
     "data": {
      "image/png": "[encoded data removed]",
      "text/plain": [
       "<Figure size 432x288 with 1 Axes>"
      ]
     },
     "metadata": {
      "needs_background": "light"
     },
     "output_type": "display_data"
    }
   ],
   "source": [
    "plt.scatter(x[:, 0], x[:, 1], alpha=0.3)\n",
    "plt.scatter(selected[:, 0], selected[:, 1], facecolor='red', s=50);"
   ]
  }
 ],
 "metadata": {
  "kernelspec": {
   "display_name": "Python 3",
   "language": "python",
   "name": "python3"
  },
  "language_info": {
   "codemirror_mode": {
    "name": "ipython",
    "version": 3
   },
   "file_extension": ".py",
   "mimetype": "text/x-python",
   "name": "python",
   "nbconvert_exporter": "python",
   "pygments_lexer": "ipython3",
   "version": "3.8.8"
  }
 },
 "nbformat": 4,
 "nbformat_minor": 5
}
