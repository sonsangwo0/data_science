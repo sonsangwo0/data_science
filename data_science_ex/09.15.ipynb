{
 "cells": [
  {
   "cell_type": "code",
   "execution_count": 2,
   "id": "4bc3b667-fcf9-41bd-830e-416a3e794297",
   "metadata": {},
   "outputs": [
    {
     "name": "stdout",
     "output_type": "stream",
     "text": [
      "Hello World!\n",
      "100\n",
      "3.14\n",
      "My name is Son Sang Wooand I'm 24 years old \n"
     ]
    }
   ],
   "source": [
    "print(\"Hello World!\")\n",
    "print(100)\n",
    "pi = 3.14\n",
    "print(pi)\n",
    "\n",
    "introduce = \"My name is \"\n",
    "name = \"Son Sang Woo\"\n",
    "\n",
    "print(introduce + name + \"and I'm 24 years old \")"
   ]
  },
  {
   "cell_type": "code",
   "execution_count": 4,
   "id": "840d7306-3e9a-4eb2-bbe2-ccffe05bf787",
   "metadata": {},
   "outputs": [],
   "source": [
    "user_name = \"Son Sang Woo\"\n",
    "user_id = 20210024\n",
    "user_email = \"xhxh9539@hs.ac.kr\"\n",
    "is_student = True\n",
    "my_eyes = -7.5\n",
    "type(my_eyes)\n",
    "\n",
    "# 본인을 표현할 수 있는 정보를 변수로 정의해 보세요. 3가지.\n",
    "\n",
    "address = \"Suwon\"\n",
    "user_age = 24\n",
    "user_fat = False"
   ]
  },
  {
   "cell_type": "code",
   "execution_count": 5,
   "id": "e02e3504-31be-4cf1-998e-ae8cde12bdda",
   "metadata": {},
   "outputs": [
    {
     "name": "stdout",
     "output_type": "stream",
     "text": [
      "x =  1\n",
      "Address of x:  140734554253104\n",
      "x =  2\n",
      "Address of x:  140734554253136\n"
     ]
    }
   ],
   "source": [
    "x = 1\n",
    "print(\"x = \", x)\n",
    "print(\"Address of x: \", id(x))\n",
    "\n",
    "x = 2\n",
    "print(\"x = \", x)\n",
    "print(\"Address of x: \", id(x))"
   ]
  },
  {
   "cell_type": "code",
   "execution_count": 6,
   "id": "8be1fa81-817e-47d5-9f01-6bf10a0de3af",
   "metadata": {},
   "outputs": [],
   "source": [
    "# 본인 집에 있는 사물의 개수를 정수 유형의 변수로 표현하시오.\n",
    "\n",
    "tv = 1\n",
    "broken_phone = -3\n",
    "can_coffee = 47\n",
    "speaker = 7\n",
    "mic = 4"
   ]
  },
  {
   "cell_type": "code",
   "execution_count": 7,
   "id": "f6444a66-ba82-4853-b671-79bd8558f90c",
   "metadata": {},
   "outputs": [],
   "source": [
    "pi = 3.14\n",
    "kospi_index = 3125.76\n",
    "krw_usd_exchange = 1176.83\n",
    "\n",
    "# 본인이 알고 있는 세 개의 실수를 변수로 표현하시오.\n",
    "# 위의 예시와 중복 x\n",
    "\n",
    "golden_ratio = 1.61803398875\n",
    "my_grade = 3.1\n",
    "my_temperature = 36.5"
   ]
  },
  {
   "cell_type": "code",
   "execution_count": 8,
   "id": "6c5bf274-cec2-4104-b1e9-9c2298c7e2ea",
   "metadata": {},
   "outputs": [
    {
     "name": "stdout",
     "output_type": "stream",
     "text": [
      "Best is Best Starcraft Sonny\n",
      "Love userself\n",
      "Americano\n",
      "Malboro\n"
     ]
    }
   ],
   "source": [
    "\n",
    "favorite_motto = \"Best is Best\"\n",
    "favorite_game = \"Starcraft\"\n",
    "favorite_athelete = \"Sonny\"\n",
    "favorites = favorite_motto + \" \" + favorite_game + \" \" + favorite_athelete\n",
    "print(favorites)\n",
    "\n",
    "# 본인이 좋아하는 것들을 문자열의 변수로 표현하시오.\n",
    "\n",
    "favorite_music = \"Love userself\"\n",
    "favorite_coffee = \"Americano\"\n",
    "favorite_cigar = \"Malboro\"\n",
    "\n",
    "favorite_list = favorite_music + \"\\n\" + favorite_coffee + \"\\n\" + favorite_cigar\n",
    "print(favorite_list)"
   ]
  },
  {
   "cell_type": "code",
   "execution_count": null,
   "id": "484e88d2-f55c-4aeb-9047-8a45d1b55136",
   "metadata": {},
   "outputs": [],
   "source": [
    "x = 1\n",
    "\n",
    "try:\n",
    "    print(y)\n",
    "    print(x)\n",
    "except:\n",
    "    print(\"[ERROR]: y is not declared.\")\n",
    "\n",
    "print(\"continue...\")\n"
   ]
  }
 ],
 "metadata": {
  "kernelspec": {
   "display_name": "Python 3",
   "language": "python",
   "name": "python3"
  },
  "language_info": {
   "codemirror_mode": {
    "name": "ipython",
    "version": 3
   },
   "file_extension": ".py",
   "mimetype": "text/x-python",
   "name": "python",
   "nbconvert_exporter": "python",
   "pygments_lexer": "ipython3",
   "version": "3.8.8"
  }
 },
 "nbformat": 4,
 "nbformat_minor": 5
}
