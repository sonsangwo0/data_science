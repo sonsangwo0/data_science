{
 "cells": [
  {
   "cell_type": "code",
   "execution_count": 1,
   "id": "d681db89-1569-4e4a-9458-0fd3b4e842fa",
   "metadata": {},
   "outputs": [
    {
     "name": "stdout",
     "output_type": "stream",
     "text": [
      "3\n",
      "2\n"
     ]
    }
   ],
   "source": [
    "def my_function(x):\n",
    "    return x+1\n",
    "\n",
    "y = 2\n",
    "result = my_function(y)\n",
    "print(result)\n",
    "\n",
    "x = 1\n",
    "class my_class:\n",
    "    def my_method(self):\n",
    "        return x + 1\n",
    "\n",
    "cls = my_class()\n",
    "\n",
    "print(cls.my_method())"
   ]
  },
  {
   "cell_type": "code",
   "execution_count": 2,
   "id": "2cde2480-87cf-4b41-87df-28723c0142e1",
   "metadata": {},
   "outputs": [
    {
     "name": "stdout",
     "output_type": "stream",
     "text": [
      "Hello everyone, my name is GiHyeon Ju, I was born in 1998,         and I live in Seoul.\n"
     ]
    }
   ],
   "source": [
    "def introduce_myself(name, birthyear, city):\n",
    "    print(\"Hello everyone, my name is %s, I was born in %d, \\\n",
    "        and I live in %s.\" % (name, birthyear, city))\n",
    "\n",
    "introduce_myself(\"GiHyeon Ju\", 1998, \"Seoul\")"
   ]
  },
  {
   "cell_type": "code",
   "execution_count": 3,
   "id": "a1987e9d-4b25-4414-8606-2358a346d702",
   "metadata": {},
   "outputs": [
    {
     "name": "stdout",
     "output_type": "stream",
     "text": [
      "2020 is a leap year.\n"
     ]
    }
   ],
   "source": [
    "def check_leap_year(year):\n",
    "    if year % 4 == 0:\n",
    "        return \"%d is a leap year.\" % (year)\n",
    "    else:\n",
    "        return \"%d is not a leap year.\" % (year)\n",
    "\n",
    "print(check_leap_year(2020))"
   ]
  },
  {
   "cell_type": "code",
   "execution_count": 4,
   "id": "3053492a-6175-4cfa-8101-cb93b5e891b6",
   "metadata": {},
   "outputs": [
    {
     "name": "stdout",
     "output_type": "stream",
     "text": [
      "9 16 25\n"
     ]
    }
   ],
   "source": [
    "def square_point(x, y, z):\n",
    "    x_squared = x ** 2\n",
    "    y_squared = y ** 2\n",
    "    z_squared = z ** 2\n",
    "    return x_squared, y_squared, z_squared\n",
    "\n",
    "three_squared, four_squared, five_squared = square_point(3, 4, 5)\n",
    "print(three_squared, four_squared, five_squared)"
   ]
  },
  {
   "cell_type": "code",
   "execution_count": 5,
   "id": "766213fd-ef05-4fcf-938d-aa8796a3970b",
   "metadata": {},
   "outputs": [
    {
     "name": "stdout",
     "output_type": "stream",
     "text": [
      "Hello\n"
     ]
    }
   ],
   "source": [
    "a = \"Hello\"\n",
    "\n",
    "def prints_a():\n",
    "    print(a)\n",
    "\n",
    "prints_a()"
   ]
  },
  {
   "cell_type": "code",
   "execution_count": 6,
   "id": "f24eaa2d-ff9f-43d1-8e35-04f9728ec12b",
   "metadata": {},
   "outputs": [
    {
     "name": "stdout",
     "output_type": "stream",
     "text": [
      "3\n"
     ]
    }
   ],
   "source": [
    "a = 5 # global var.\n",
    "\n",
    "def f1():\n",
    "    g = 3 # local var.\n",
    "    print(g)\n",
    "\n",
    "f1()"
   ]
  },
  {
   "cell_type": "code",
   "execution_count": null,
   "id": "9390f0a3-78b4-46ae-bb5d-fdb65aaa9d6e",
   "metadata": {},
   "outputs": [],
   "source": [
    "def findvolume(height=1, width=1, depth=1):\n",
    "    print(\"Height = \" + str(height)) \n",
    "    print(\"Width = \" + str(width))\n",
    "    print(\"Depth = \" + str(depth))\n",
    "\n",
    "findvolume(1, 2, 3)\n",
    "findvolume(depth=3, width=2, height=1)"
   ]
  }
 ],
 "metadata": {
  "kernelspec": {
   "display_name": "Python 3",
   "language": "python",
   "name": "python3"
  },
  "language_info": {
   "codemirror_mode": {
    "name": "ipython",
    "version": 3
   },
   "file_extension": ".py",
   "mimetype": "text/x-python",
   "name": "python",
   "nbconvert_exporter": "python",
   "pygments_lexer": "ipython3",
   "version": "3.8.8"
  }
 },
 "nbformat": 4,
 "nbformat_minor": 5
}
