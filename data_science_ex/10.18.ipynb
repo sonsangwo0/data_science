{
 "cells": [
  {
   "cell_type": "code",
   "execution_count": 1,
   "id": "806733fb-df68-4e54-8ef3-31bedec5e9d7",
   "metadata": {},
   "outputs": [],
   "source": [
    "import pandas as pd\n",
    "import numpy as np"
   ]
  },
  {
   "cell_type": "code",
   "execution_count": 6,
   "id": "4187d405-6326-45ef-a6d1-af512d60fd66",
   "metadata": {},
   "outputs": [
    {
     "name": "stdout",
     "output_type": "stream",
     "text": [
      "[1 2 3 4 5 6 7 8 9] \n",
      "\n",
      "[[1 2 3]\n",
      " [4 5 6]\n",
      " [7 8 9]] \n",
      "\n"
     ]
    }
   ],
   "source": [
    "x = [1, 2, 3]\n",
    "y = [4, 5, 6]\n",
    "z = [7, 8, 9]\n",
    "\n",
    "print(np.concatenate([x, y, z]), '\\n')\n",
    "print(np.vstack([x, y, z]), '\\n')"
   ]
  },
  {
   "cell_type": "code",
   "execution_count": 15,
   "id": "afe9063a-9658-4fed-a44b-49c9d913b5e9",
   "metadata": {},
   "outputs": [
    {
     "data": {
      "text/plain": [
       "1    A\n",
       "2    B\n",
       "3    C\n",
       "4    D\n",
       "5    E\n",
       "6    F\n",
       "dtype: object"
      ]
     },
     "execution_count": 15,
     "metadata": {},
     "output_type": "execute_result"
    }
   ],
   "source": [
    "ser1 = pd.Series(['A', 'B', 'C'], index=[1, 2, 3])\n",
    "ser2 = pd.Series(['D', 'E', 'F'], index=[4, 5, 6])\n",
    "\n",
    "pd.concat([ser1, ser2])"
   ]
  },
  {
   "cell_type": "code",
   "execution_count": 22,
   "id": "01b263c3-04d6-4a2a-97db-276efcab2a12",
   "metadata": {},
   "outputs": [
    {
     "name": "stdout",
     "output_type": "stream",
     "text": [
      "    A   B   C\n",
      "1  A1  B1  C1\n",
      "2  A2  B2  C2\n"
     ]
    }
   ],
   "source": [
    "def make_df(cols, ind):\n",
    "    data = {c: [str(c) + str(i) for i in ind]\n",
    "            for c in cols}\n",
    "\n",
    "    return pd.DataFrame(data, ind)\n",
    "\n",
    "print(make_df('ABC', [1, 2]))"
   ]
  },
  {
   "cell_type": "code",
   "execution_count": 28,
   "id": "d217ac44-3ba7-42e7-b0b3-74b94a5e13fa",
   "metadata": {},
   "outputs": [
    {
     "name": "stdout",
     "output_type": "stream",
     "text": [
      "    A   B\n",
      "1  A1  B1\n",
      "2  A2  B2 \n",
      "\n",
      "    A   B\n",
      "3  A3  B3\n",
      "4  A4  B4 \n",
      "\n",
      "    A   B\n",
      "3  A3  B3\n",
      "4  A4  B4\n",
      "1  A1  B1\n",
      "2  A2  B2\n"
     ]
    }
   ],
   "source": [
    "df1 = make_df('AB', [1, 2])\n",
    "df2 = make_df('AB', [3, 4])\n",
    "\n",
    "print(df1, '\\n')\n",
    "print(df2, '\\n')\n",
    "\n",
    "print(pd.concat([df2, df1], axis=0))"
   ]
  },
  {
   "cell_type": "code",
   "execution_count": 40,
   "id": "b9aab15e-a707-46f4-ae30-631dd719c38b",
   "metadata": {},
   "outputs": [
    {
     "name": "stdout",
     "output_type": "stream",
     "text": [
      "    A   B\n",
      "0  A0  B0\n",
      "1  A1  B1 \n",
      "\n",
      "    C   D\n",
      "0  C0  D0\n",
      "1  C1  D1 \n",
      "\n",
      "     A    B    C    D\n",
      "0   A0   B0  NaN  NaN\n",
      "1   A1   B1  NaN  NaN\n",
      "0  NaN  NaN   C0   D0\n",
      "1  NaN  NaN   C1   D1\n"
     ]
    }
   ],
   "source": [
    "df3 = make_df('AB', [0, 1])\n",
    "df4 = make_df('CD', [0, 1])\n",
    "\n",
    "print(df3, '\\n')\n",
    "print(df4, '\\n')\n",
    "\n",
    "print(pd.concat([df3, df4], axis=0))"
   ]
  },
  {
   "cell_type": "code",
   "execution_count": 44,
   "id": "cc990539-e66d-4e9f-bf48-e42fe890fb2a",
   "metadata": {},
   "outputs": [
    {
     "name": "stdout",
     "output_type": "stream",
     "text": [
      "    A   B\n",
      "0  A0  B0\n",
      "1  A1  B1\n",
      "0  A0  B0\n",
      "1  A1  B1\n"
     ]
    }
   ],
   "source": [
    "x = make_df('AB', [0, 1])\n",
    "y = make_df('AB', [0, 1])\n",
    "\n",
    "print(pd.concat([x, y]))"
   ]
  },
  {
   "cell_type": "code",
   "execution_count": 56,
   "id": "f814c58b-7b65-43fb-b3e4-94dc38ad3bfe",
   "metadata": {},
   "outputs": [
    {
     "name": "stdout",
     "output_type": "stream",
     "text": [
      "ValueError:  Indexes have overlapping values: Int64Index([0, 1], dtype='int64')\n"
     ]
    }
   ],
   "source": [
    "try:\n",
    "    pd.concat([x, y], verify_integrity=True)\n",
    "\n",
    "except ValueError as e:\n",
    "    print(\"ValueError: \", e)"
   ]
  },
  {
   "cell_type": "code",
   "execution_count": 61,
   "id": "9f57a8fe-58b3-4575-815f-c5cc52b7bc63",
   "metadata": {},
   "outputs": [
    {
     "name": "stdout",
     "output_type": "stream",
     "text": [
      "    A   B\n",
      "0  A0  B0\n",
      "1  A1  B1\n",
      "2  A0  B0\n",
      "3  A1  B1\n"
     ]
    }
   ],
   "source": [
    "print(pd.concat([x, y], ignore_index=True))"
   ]
  },
  {
   "cell_type": "code",
   "execution_count": 75,
   "id": "67e7b332-f28b-4f51-8706-b4213563b2f6",
   "metadata": {},
   "outputs": [
    {
     "name": "stdout",
     "output_type": "stream",
     "text": [
      "    A   B   C\n",
      "1  A1  B1  C1\n",
      "2  A2  B2  C2 \n",
      "\n",
      "     B   C   D\n",
      "3  B3  C3  D3\n",
      "4  B4  C4  D4\n",
      "     A   B   C    D\n",
      "1   A1  B1  C1  NaN\n",
      "2   A2  B2  C2  NaN\n",
      "3  NaN  B3  C3   D3\n",
      "4  NaN  B4  C4   D4\n"
     ]
    }
   ],
   "source": [
    "x = make_df('ABC', [1, 2])\n",
    "y = make_df('BCD', [3, 4])\n",
    "\n",
    "print(x, '\\n\\n', y)\n",
    "\n",
    "print(pd.concat([x, y], join='outer'))"
   ]
  },
  {
   "cell_type": "code",
   "execution_count": 95,
   "id": "456943a0-37ed-481a-95f8-e1a91ae92911",
   "metadata": {},
   "outputs": [
    {
     "name": "stdout",
     "output_type": "stream",
     "text": [
      "  employee        group\n",
      "0      Bob   Accounting\n",
      "1     Jake  Engineering\n",
      "2     Lisa  Engineering\n",
      "3      Sue           HR \n",
      "\n",
      "   employee  hire_date\n",
      "0     Lisa       2004\n",
      "1      Bob       2008\n",
      "2     Jake       2012\n",
      "3      Sue       2014\n",
      "  employee        group  hire_date\n",
      "0      Bob   Accounting       2008\n",
      "1     Jake  Engineering       2012\n",
      "2     Lisa  Engineering       2004\n",
      "3      Sue           HR       2014\n"
     ]
    }
   ],
   "source": [
    "df1 = pd.DataFrame({'employee': ['Bob', 'Jake', 'Lisa', 'Sue'], 'group': ['Accounting', 'Engineering', 'Engineering', 'HR']})\n",
    "df2 = pd.DataFrame({'employee': ['Lisa', 'Bob', 'Jake', 'Sue'], 'hire_date': [2004, 2008, 2012, 2014]})\n",
    "\n",
    "print(df1, '\\n\\n', df2)\n",
    "\n",
    "df3 = pd.merge(df1, df2)\n",
    "\n",
    "print(pd.merge(df1, df2))"
   ]
  },
  {
   "cell_type": "code",
   "execution_count": 102,
   "id": "0695b1da-7838-41b4-999f-4b9d8505f341",
   "metadata": {},
   "outputs": [
    {
     "name": "stdout",
     "output_type": "stream",
     "text": [
      "  employee        group  hire_date\n",
      "0      Bob   Accounting       2008\n",
      "1     Jake  Engineering       2012\n",
      "2     Lisa  Engineering       2004\n",
      "3      Sue           HR       2014 \n",
      "\n",
      "         group supervisor\n",
      "0   Accounting      Carly\n",
      "1  Engineering      Guido\n",
      "2           HR      Steve \n",
      "\n",
      "  employee        group  hire_date supervisor\n",
      "0      Bob   Accounting       2008      Carly\n",
      "1     Jake  Engineering       2012      Guido\n",
      "2     Lisa  Engineering       2004      Guido\n",
      "3      Sue           HR       2014      Steve\n"
     ]
    }
   ],
   "source": [
    "df4 = pd.DataFrame({'group': ['Accounting', 'Engineering', 'HR'], 'supervisor': ['Carly', 'Guido', 'Steve']})\n",
    "\n",
    "print(df3, '\\n')\n",
    "print(df4, '\\n')\n",
    "\n",
    "print(pd.merge(df3, df4))"
   ]
  },
  {
   "cell_type": "code",
   "execution_count": 111,
   "id": "8987906c-df9d-4e33-abdc-a27aab173a11",
   "metadata": {},
   "outputs": [
    {
     "name": "stdout",
     "output_type": "stream",
     "text": [
      "  employee        group\n",
      "0      Bob   Accounting\n",
      "1     Jake  Engineering\n",
      "2     Lisa  Engineering\n",
      "3      Sue           HR \n",
      "\n",
      "         group        skills\n",
      "0   Accounting          math\n",
      "1   Accounting  spreadsheets\n",
      "2  Engineering        coding\n",
      "3  Engineering         linux\n",
      "4           HR  spreadsheets\n",
      "5           HR  organization \n",
      "\n",
      "  employee        group        skills\n",
      "0      Bob   Accounting          math\n",
      "1      Bob   Accounting  spreadsheets\n",
      "2     Jake  Engineering        coding\n",
      "3     Jake  Engineering         linux\n",
      "4     Lisa  Engineering        coding\n",
      "5     Lisa  Engineering         linux\n",
      "6      Sue           HR  spreadsheets\n",
      "7      Sue           HR  organization\n"
     ]
    }
   ],
   "source": [
    "df5 = pd.DataFrame({'group': ['Accounting', 'Accounting', 'Engineering', 'Engineering', 'HR', 'HR'], \n",
    "                    'skills': ['math', 'spreadsheets', 'coding', 'linux', 'spreadsheets', 'organization']})\n",
    "\n",
    "print(df1, '\\n')\n",
    "print(df5, '\\n')\n",
    "\n",
    "print(pd.merge(df1, df5))"
   ]
  },
  {
   "cell_type": "code",
   "execution_count": 113,
   "id": "179ea7e3-2fe6-48e9-9ddd-5480e34139e5",
   "metadata": {},
   "outputs": [
    {
     "name": "stdout",
     "output_type": "stream",
     "text": [
      "  employee        group  age\n",
      "0      Bob   Accounting   20\n",
      "1     Jake  Engineering   42\n",
      "2     Lisa  Engineering   37\n",
      "3      Sue           HR   25 \n",
      "\n",
      "  employee  hire_date  age\n",
      "0     Lisa       2004   37\n",
      "1      Bob       2008   20\n",
      "2     Jake       2012   42\n",
      "3      Sue       2014   25 \n",
      "\n",
      "  employee        group  age\n",
      "0      Bob   Accounting   20\n",
      "1     Jake  Engineering   42\n",
      "2     Lisa  Engineering   37\n",
      "3      Sue           HR   25 \n",
      "\n",
      "   employee  hire_date  age\n",
      "0     Lisa       2004   37\n",
      "1      Bob       2008   20\n",
      "2     Jake       2012   42\n",
      "3      Sue       2014   25\n",
      "  employee_x        group  age employee_y  hire_date\n",
      "0        Bob   Accounting   20        Bob       2008\n",
      "1       Jake  Engineering   42       Jake       2012\n",
      "2       Lisa  Engineering   37       Lisa       2004\n",
      "3        Sue           HR   25        Sue       2014\n"
     ]
    }
   ],
   "source": [
    "print(df1, '\\n')\n",
    "print(df2, '\\n')\n",
    "\n",
    "df1['age'] = pd.Series([20, 42, 37, 25])\n",
    "df2['age'] = pd.Series([37, 20, 42, 25])\n",
    "\n",
    "print(df1, '\\n\\n', df2)\n",
    "\n",
    "print(pd.merge(df1, df2, on='age'))"
   ]
  },
  {
   "cell_type": "code",
   "execution_count": 114,
   "id": "c0a7f92d-98c8-4018-a0be-7628251a3c0f",
   "metadata": {},
   "outputs": [
    {
     "name": "stdout",
     "output_type": "stream",
     "text": [
      "  employee        group  age\n",
      "0      Bob   Accounting   20\n",
      "1     Jake  Engineering   42\n",
      "2     Lisa  Engineering   37\n",
      "3      Sue           HR   25 \n",
      "\n",
      "   name  salary\n",
      "0   Bob   70000\n",
      "1  Jake   80000\n",
      "2  Lisa  120000\n",
      "3   Sue   90000 \n",
      "\n",
      "  employee        group  age  name  salary\n",
      "0      Bob   Accounting   20   Bob   70000\n",
      "1     Jake  Engineering   42  Jake   80000\n",
      "2     Lisa  Engineering   37  Lisa  120000\n",
      "3      Sue           HR   25   Sue   90000\n"
     ]
    }
   ],
   "source": [
    "df3 = pd.DataFrame({'name': ['Bob', 'Jake', 'Lisa', 'Sue'], \n",
    "                    'salary': [70000, 80000, 120000, 90000]})\n",
    "\n",
    "print(df1, '\\n')\n",
    "print(df3, '\\n')\n",
    "\n",
    "print(pd.merge(df1, df3, left_on='employee', right_on='name'))"
   ]
  },
  {
   "cell_type": "code",
   "execution_count": 116,
   "id": "ef6d54c7-1185-4957-b6fc-8526891396db",
   "metadata": {},
   "outputs": [
    {
     "name": "stdout",
     "output_type": "stream",
     "text": [
      "                group  age\n",
      "employee                  \n",
      "Bob        Accounting   20\n",
      "Jake      Engineering   42\n",
      "Lisa      Engineering   37\n",
      "Sue                HR   25 \n",
      "\n",
      "          hire_date  age\n",
      "employee                \n",
      "Lisa           2004   37\n",
      "Bob            2008   20\n",
      "Jake           2012   42\n",
      "Sue            2014   25 \n",
      "\n"
     ]
    },
    {
     "data": {
      "text/html": [
       "<div>\n",
       "<style scoped>\n",
       "    .dataframe tbody tr th:only-of-type {\n",
       "        vertical-align: middle;\n",
       "    }\n",
       "\n",
       "    .dataframe tbody tr th {\n",
       "        vertical-align: top;\n",
       "    }\n",
       "\n",
       "    .dataframe thead th {\n",
       "        text-align: right;\n",
       "    }\n",
       "</style>\n",
       "<table border=\"1\" class=\"dataframe\">\n",
       "  <thead>\n",
       "    <tr style=\"text-align: right;\">\n",
       "      <th></th>\n",
       "      <th>group</th>\n",
       "      <th>age_x</th>\n",
       "      <th>hire_date</th>\n",
       "      <th>age_y</th>\n",
       "    </tr>\n",
       "    <tr>\n",
       "      <th>employee</th>\n",
       "      <th></th>\n",
       "      <th></th>\n",
       "      <th></th>\n",
       "      <th></th>\n",
       "    </tr>\n",
       "  </thead>\n",
       "  <tbody>\n",
       "    <tr>\n",
       "      <th>Bob</th>\n",
       "      <td>Accounting</td>\n",
       "      <td>20</td>\n",
       "      <td>2008</td>\n",
       "      <td>20</td>\n",
       "    </tr>\n",
       "    <tr>\n",
       "      <th>Jake</th>\n",
       "      <td>Engineering</td>\n",
       "      <td>42</td>\n",
       "      <td>2012</td>\n",
       "      <td>42</td>\n",
       "    </tr>\n",
       "    <tr>\n",
       "      <th>Lisa</th>\n",
       "      <td>Engineering</td>\n",
       "      <td>37</td>\n",
       "      <td>2004</td>\n",
       "      <td>37</td>\n",
       "    </tr>\n",
       "    <tr>\n",
       "      <th>Sue</th>\n",
       "      <td>HR</td>\n",
       "      <td>25</td>\n",
       "      <td>2014</td>\n",
       "      <td>25</td>\n",
       "    </tr>\n",
       "  </tbody>\n",
       "</table>\n",
       "</div>"
      ],
      "text/plain": [
       "                group  age_x  hire_date  age_y\n",
       "employee                                      \n",
       "Bob        Accounting     20       2008     20\n",
       "Jake      Engineering     42       2012     42\n",
       "Lisa      Engineering     37       2004     37\n",
       "Sue                HR     25       2014     25"
      ]
     },
     "execution_count": 116,
     "metadata": {},
     "output_type": "execute_result"
    }
   ],
   "source": [
    "df1a = df1.set_index('employee')\n",
    "print(df1a, '\\n')\n",
    "df2a = df2.set_index('employee')\n",
    "print(df2a, '\\n')\n",
    "\n",
    "pd.merge(df1a, df2a, left_index=True, right_index=True)"
   ]
  }
 ],
 "metadata": {
  "kernelspec": {
   "display_name": "Python 3",
   "language": "python",
   "name": "python3"
  },
  "language_info": {
   "codemirror_mode": {
    "name": "ipython",
    "version": 3
   },
   "file_extension": ".py",
   "mimetype": "text/x-python",
   "name": "python",
   "nbconvert_exporter": "python",
   "pygments_lexer": "ipython3",
   "version": "3.8.8"
  }
 },
 "nbformat": 4,
 "nbformat_minor": 5
}
