{
 "cells": [
  {
   "cell_type": "code",
   "execution_count": 1,
   "id": "67fb4219-bd3b-4195-8281-f8a591d0e37b",
   "metadata": {},
   "outputs": [],
   "source": [
    "import numpy as np\n",
    "import pandas as pd\n",
    "from matplotlib import pyplot as plt"
   ]
  },
  {
   "cell_type": "code",
   "execution_count": 2,
   "id": "35341b5f-e1a7-4874-aed7-113bbce6ce29",
   "metadata": {},
   "outputs": [
    {
     "name": "stdout",
     "output_type": "stream",
     "text": [
      "[1 2]\n",
      "<U11\n",
      "int32\n",
      "float64\n"
     ]
    }
   ],
   "source": [
    "arr = np.array([1, 2])\n",
    "print(arr)\n",
    "\n",
    "a = np.array([1, \"A\" ,True])\n",
    "print(a.dtype)\n",
    "\n",
    "b = np.array([1, 2, 3])\n",
    "print(b.dtype)\n",
    "\n",
    "c = np.array([1.1, 2.3])\n",
    "print(c.dtype)"
   ]
  },
  {
   "cell_type": "code",
   "execution_count": 4,
   "id": "2a106a89-00f7-4e2c-adeb-615974ba487c",
   "metadata": {},
   "outputs": [
    {
     "name": "stdout",
     "output_type": "stream",
     "text": [
      "136\n",
      "144\n"
     ]
    }
   ],
   "source": [
    "from sys import getsizeof\n",
    "\n",
    "lst = [1 ,2, 3, 4, 5, 6, 7, 8, 9, 10]\n",
    "print(getsizeof(lst))\n",
    "\n",
    "arr = np.array([1, 2, 3, 4, 5, 6, 7, 8, 9, 10])\n",
    "print(getsizeof(arr))"
   ]
  },
  {
   "cell_type": "code",
   "execution_count": 5,
   "id": "0fb7499e-477d-4e0f-bb72-fe762c91ba62",
   "metadata": {},
   "outputs": [
    {
     "name": "stdout",
     "output_type": "stream",
     "text": [
      "[1.         1.41421356 1.73205081]\n"
     ]
    }
   ],
   "source": [
    "lst = [1, 2, 3]\n",
    "arr = np.array(lst)\n",
    "arr = np.sqrt(arr)\n",
    "print(arr)"
   ]
  },
  {
   "cell_type": "code",
   "execution_count": 6,
   "id": "fee27be3-bfd3-4e9f-aca2-0fa94e876050",
   "metadata": {},
   "outputs": [
    {
     "name": "stdout",
     "output_type": "stream",
     "text": [
      "[89 87 74 92 94]\n",
      "[260 281 248 276 272]\n",
      "[86.66666667 93.66666667 82.66666667 92.         90.66666667]\n",
      "93\n",
      "[94, 88]\n",
      "[[ 92  94  88  91  87]\n",
      " [ 79 100  86  93  91]\n",
      " [ 87  85  72  90  92]]\n",
      "87\n",
      "[91 93 90]\n"
     ]
    }
   ],
   "source": [
    "test_1 = np.array([92, 94, 88, 91 ,87])\n",
    "test_2 = np.array([79, 100, 86, 93, 91])\n",
    "test_3 = np.array([87, 85, 72, 90, 92])\n",
    "\n",
    "test_3_fixed = test_3 + 2\n",
    "print(test_3_fixed)\n",
    "\n",
    "total_grade = test_1 + test_2 + test_3_fixed\n",
    "print(total_grade)\n",
    "\n",
    "final_grade = total_grade / 3\n",
    "print(final_grade)\n",
    "\n",
    "\n",
    "jeremy_test_2 = test_2[3]\n",
    "print(jeremy_test_2)\n",
    "\n",
    "manual_adwoa_test_1 = [test_1[1], test_1[2]]\n",
    "print(manual_adwoa_test_1)\n",
    "\n",
    "student_scores = np.array([test_1, test_2, test_3])\n",
    "print(student_scores)\n",
    "\n",
    "print(student_scores[2][0])\n",
    "\n",
    "print(student_scores[:, 3])"
   ]
  },
  {
   "cell_type": "code",
   "execution_count": 7,
   "id": "254f3cb9-89d5-454a-aa35-2e408210c957",
   "metadata": {},
   "outputs": [
    {
     "name": "stdout",
     "output_type": "stream",
     "text": [
      "[False False False False False  True  True  True  True  True]\n",
      "[6 7]\n"
     ]
    }
   ],
   "source": [
    "arr = np.array([1, 2, 3, 4, 5, 6, 7, 8, 9, 10])\n",
    "mask = arr > 5\n",
    "print(mask)\n",
    "\n",
    "\n",
    "selected = arr[(arr > 5) & (arr < 8)]\n",
    "print(selected)"
   ]
  },
  {
   "cell_type": "code",
   "execution_count": null,
   "id": "d47c9b12-8bf8-44ff-a464-b9897fe0235d",
   "metadata": {},
   "outputs": [],
   "source": []
  }
 ],
 "metadata": {
  "kernelspec": {
   "display_name": "Python 3",
   "language": "python",
   "name": "python3"
  },
  "language_info": {
   "codemirror_mode": {
    "name": "ipython",
    "version": 3
   },
   "file_extension": ".py",
   "mimetype": "text/x-python",
   "name": "python",
   "nbconvert_exporter": "python",
   "pygments_lexer": "ipython3",
   "version": "3.8.8"
  }
 },
 "nbformat": 4,
 "nbformat_minor": 5
}
