{
 "cells": [
  {
   "cell_type": "code",
   "execution_count": 1,
   "id": "d62543dd-6483-4a3c-99b1-dbdda1e0e4b3",
   "metadata": {},
   "outputs": [],
   "source": [
    "import numpy as np"
   ]
  },
  {
   "cell_type": "code",
   "execution_count": 2,
   "id": "c48ce7a7-9a19-48a7-b8c8-05eb4daf4933",
   "metadata": {},
   "outputs": [
    {
     "name": "stdout",
     "output_type": "stream",
     "text": [
      "[0 1 2]\n",
      "[2 3 4]\n",
      "[1 3 5 7]\n"
     ]
    }
   ],
   "source": [
    "print(np.arange(3)) \n",
    "print(np.arange(2, 5))\n",
    "print(np.arange(1, 9, 2))"
   ]
  },
  {
   "cell_type": "code",
   "execution_count": 3,
   "id": "a327bfe2-5266-42f7-9ddc-eb2b16930bd4",
   "metadata": {},
   "outputs": [
    {
     "name": "stdout",
     "output_type": "stream",
     "text": [
      "[60 46 42 98 52] \n",
      "\n",
      "[[86 14 18 91 58]\n",
      " [70 27 42 38 88]\n",
      " [44  1 37  3 46]] \n",
      "\n",
      "[[[ 7 14]\n",
      "  [66 14]\n",
      "  [ 0 44]\n",
      "  [83 26]\n",
      "  [83 26]]\n",
      "\n",
      " [[67 35]\n",
      "  [29 24]\n",
      "  [66 47]\n",
      "  [81 71]\n",
      "  [23 83]]\n",
      "\n",
      " [[70 49]\n",
      "  [25 41]\n",
      "  [65 72]\n",
      "  [68 22]\n",
      "  [47 35]]]\n"
     ]
    }
   ],
   "source": [
    "arr1 = np.random.randint(100, size=(5)) \n",
    "print(arr1, \"\\n\")\n",
    "\n",
    "arr2 = np.random.randint(100, size=(3, 5))\n",
    "print(arr2, \"\\n\")\n",
    "\n",
    "arr3 = np.random.randint(100, size=(3, 5, 2))\n",
    "print(arr3)"
   ]
  },
  {
   "cell_type": "code",
   "execution_count": 6,
   "id": "7377e822-ed8a-4834-81b1-fda075c354d5",
   "metadata": {},
   "outputs": [
    {
     "name": "stdout",
     "output_type": "stream",
     "text": [
      "arr1.ndim =  1\n",
      "arr2.ndim =  (3, 5)\n",
      "arr2.size =  15\n",
      "arr2.dtype =  int32\n",
      "arr2.itemsize =  4\n",
      "arr4.itemsize =  8\n",
      "arr2.nbytes =  60\n"
     ]
    }
   ],
   "source": [
    "print(\"arr1.ndim = \", arr1.ndim)\n",
    "print(\"arr2.ndim = \", arr2.shape)\n",
    "print(\"arr2.size = \", arr2.size)\n",
    "\n",
    "print(\"arr2.dtype = \", arr2.dtype)\n",
    "print(\"arr2.itemsize = \", arr2.itemsize) \n",
    "\n",
    "arr4 = np.array([1.5, 2.3, 3.4])\n",
    "print(\"arr4.itemsize = \", arr4.itemsize)\n",
    "\n",
    "print(\"arr2.nbytes = \", arr2.nbytes)"
   ]
  },
  {
   "cell_type": "code",
   "execution_count": 7,
   "id": "7d006a70-f360-4b13-bcc0-86da43f705dc",
   "metadata": {},
   "outputs": [
    {
     "name": "stdout",
     "output_type": "stream",
     "text": [
      "[[5 8 9 5]\n",
      " [0 0 1 7]\n",
      " [6 9 2 4]] \n",
      "\n",
      "[[5 8]\n",
      " [0 0]] \n",
      "\n",
      "[[-1  8]\n",
      " [ 0  0]] \n",
      "\n",
      "[[-1  8  9  5]\n",
      " [ 0  0  1  7]\n",
      " [ 6  9  2  4]]\n"
     ]
    }
   ],
   "source": [
    "np.random.seed(1)\n",
    "arr = np.random.randint(10, size=(3, 4))\n",
    "print(arr, \"\\n\")\n",
    "\n",
    "arr_sub = arr[:2, :2]\n",
    "print(arr_sub, \"\\n\")\n",
    "\n",
    "arr_sub[0, 0] = -1\n",
    "print(arr_sub, \"\\n\")\n",
    "print(arr)"
   ]
  },
  {
   "cell_type": "code",
   "execution_count": 8,
   "id": "ee16e8d0-04cf-478c-89ab-9dba915bb1cb",
   "metadata": {},
   "outputs": [
    {
     "name": "stdout",
     "output_type": "stream",
     "text": [
      "[[5 8 9 5]\n",
      " [0 0 1 7]\n",
      " [6 9 2 4]] \n",
      "\n",
      "[[5 8]\n",
      " [0 0]] \n",
      "\n",
      "[[-1  8]\n",
      " [ 0  0]] \n",
      "\n"
     ]
    }
   ],
   "source": [
    "np.random.seed(1)\n",
    "arr = np.random.randint(10, size=(3, 4))\n",
    "print(arr, \"\\n\")\n",
    "\n",
    "arr_sub = arr[:2, :2].copy()\n",
    "print(arr_sub, \"\\n\")\n",
    "\n",
    "arr_sub[0, 0] = -1\n",
    "print(arr_sub, \"\\n\")"
   ]
  },
  {
   "cell_type": "code",
   "execution_count": 9,
   "id": "e8ec2cc8-c989-43f8-a6ea-fb532810dc7c",
   "metadata": {},
   "outputs": [
    {
     "name": "stdout",
     "output_type": "stream",
     "text": [
      "[1 2 3 4 5 6 7 8 9] \n",
      "\n",
      "[[1 2 3]\n",
      " [4 5 6]\n",
      " [7 8 9]]\n"
     ]
    }
   ],
   "source": [
    "arr = np.arange(1, 10)\n",
    "print(arr, \"\\n\")\n",
    "\n",
    "grid = arr.reshape(3, 3)\n",
    "print(grid)"
   ]
  },
  {
   "cell_type": "code",
   "execution_count": 10,
   "id": "63d74bd9-8af1-46ec-aaa3-e94c065b9484",
   "metadata": {},
   "outputs": [
    {
     "name": "stdout",
     "output_type": "stream",
     "text": [
      "[1 2 3]\n",
      "arr.ndim =  1\n",
      "arr.shape =  (3,)\n",
      "\n",
      "\n",
      "[[1]\n",
      " [2]\n",
      " [3]]\n",
      "arr_new.ndim =  2\n",
      "arr_new.shape =  (3, 1)\n"
     ]
    }
   ],
   "source": [
    "arr = np.array([1, 2, 3])\n",
    "print(arr)\n",
    "print(\"arr.ndim = \", arr.ndim)\n",
    "print(\"arr.shape = \", arr.shape)\n",
    "\n",
    "print(\"\\n\")\n",
    "\n",
    "arr_new = arr[:, np.newaxis]\n",
    "print(arr_new)\n",
    "print(\"arr_new.ndim = \", arr_new.ndim)\n",
    "print(\"arr_new.shape = \", arr_new.shape)"
   ]
  },
  {
   "cell_type": "code",
   "execution_count": 11,
   "id": "4d319c04-1561-4368-9d58-c96cf5a4cc38",
   "metadata": {},
   "outputs": [
    {
     "name": "stdout",
     "output_type": "stream",
     "text": [
      "[1 2 3 4 5 6 7 8 9]\n",
      "[[1 2 3]\n",
      " [4 5 6]\n",
      " [7 8 9]]\n"
     ]
    }
   ],
   "source": [
    "arr_1 = np.array([1, 2, 3])\n",
    "arr_2 = np.array([4, 5, 6])\n",
    "arr_3 = np.array([7, 8, 9])\n",
    "\n",
    "arr_total = np.concatenate([arr_1, arr_2, arr_3])\n",
    "print(arr_total)\n",
    "\n",
    "arr_total = np.vstack([arr_1, arr_2, arr_3])\n",
    "print(arr_total)"
   ]
  },
  {
   "cell_type": "code",
   "execution_count": 12,
   "id": "7efa0c50-6352-43d8-b5e6-15c6573f1f61",
   "metadata": {},
   "outputs": [
    {
     "name": "stdout",
     "output_type": "stream",
     "text": [
      "[1, 2, 3, 99, 99, 3, 2, 1]\n",
      "[1 2 3] [99 99] [7 8 9]\n"
     ]
    }
   ],
   "source": [
    "arr = [1, 2, 3, 99, 99, 3, 2, 1]\n",
    "print(arr)\n",
    "\n",
    "arr_1, arr_2, arr3 = np.split(arr, [3, 5])\n",
    "print(arr_1, arr_2, arr_3)"
   ]
  },
  {
   "cell_type": "code",
   "execution_count": null,
   "id": "f30c7cb1-16fe-4751-a7dd-f26cb45a7070",
   "metadata": {},
   "outputs": [],
   "source": []
  }
 ],
 "metadata": {
  "kernelspec": {
   "display_name": "Python 3",
   "language": "python",
   "name": "python3"
  },
  "language_info": {
   "codemirror_mode": {
    "name": "ipython",
    "version": 3
   },
   "file_extension": ".py",
   "mimetype": "text/x-python",
   "name": "python",
   "nbconvert_exporter": "python",
   "pygments_lexer": "ipython3",
   "version": "3.8.8"
  }
 },
 "nbformat": 4,
 "nbformat_minor": 5
}
